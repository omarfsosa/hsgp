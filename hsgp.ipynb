{
 "cells": [
  {
   "cell_type": "markdown",
   "id": "0ce3c7b2-e763-4208-bfd3-9d7341045142",
   "metadata": {},
   "source": [
    "Example: Hilbert space approximation for Gaussian processes.\n",
    "============================================================\n",
    "\n",
    "This example replicates a few of the models in the excellent case\n",
    "study by Aki Vehtari [1] (originally written using R and Stan).\n",
    "The case study uses approximate Gaussian processes [2] to model the\n",
    "relative number of births per day in the US from 1969 to 1988.\n",
    "The Hilbert space approximation is way faster than the exact Gaussian\n",
    "processes because it circumvents the need for inverting the\n",
    "covariance matrix.\n",
    "\n",
    "The original case study presented by Aki also emphasizes the iterative\n",
    "process of building a Bayesian model, which is excellent as a pedagogical\n",
    "resource. Here, however, I replicate only 4 out of all the models available in [1].\n",
    "There are a few minor differences in the mathematical details of my model GP4,\n",
    "which I had to make in order for the chains to mix properly. I have clearly\n",
    "commented on the places where our models are different.\n",
    "\n",
    "#### References:\n",
    "1. Gelman, Vehtari, Simpson, et al (2020), \"Bayesian workflow book - Birthdays<https://avehtari.github.io/casestudies/Birthdays/birthdays.html>.\n",
    "2. Riutort-Mayol G, Bürkner PC, Andersen MR, et al (2020), \"Practical Hilbert space approximate bayesian gaussian processes for probabilistic programming\"\n",
    "\n",
    "![Special days effect](hsgp.png)"
   ]
  },
  {
   "cell_type": "code",
   "execution_count": null,
   "id": "d8f5f75b-a606-4b54-a4ee-15940b7ac299",
   "metadata": {},
   "outputs": [],
   "source": [
    "from typing import NamedTuple"
   ]
  },
  {
   "cell_type": "code",
   "execution_count": null,
   "id": "75b3fcd0-5c8a-4d31-87c4-fa29e0b773ea",
   "metadata": {},
   "outputs": [],
   "source": [
    "import jax\n",
    "import numpyro\n",
    "jax.config.update(\"jax_enable_x64\", True)\n",
    "numpyro.set_platform(\"cpu\")\n",
    "numpyro.set_host_device_count(4)"
   ]
  },
  {
   "cell_type": "code",
   "execution_count": null,
   "id": "f964a186-e7f5-4543-8763-b6ba59e20759",
   "metadata": {},
   "outputs": [],
   "source": [
    "from hsgp import main"
   ]
  },
  {
   "cell_type": "code",
   "execution_count": null,
   "id": "10e75976-09aa-48af-95a3-4ed6314a7fdb",
   "metadata": {},
   "outputs": [],
   "source": [
    "class Args(NamedTuple):\n",
    "    \"\"\"\n",
    "    Simple class to imitate argparse\n",
    "    \"\"\"\n",
    "    model: str\n",
    "    num_samples: int = 1000\n",
    "    num_warmup: int = 1000\n",
    "    num_chains: int = 4\n",
    "    device: str = \"cpu\"\n",
    "    x64: bool = True\n",
    "    save_samples: str = \"\"\n",
    "    save_figure: str = \"\""
   ]
  },
  {
   "cell_type": "markdown",
   "id": "ed8d8ca5-abb3-4d26-a8c5-abfead74302f",
   "metadata": {},
   "source": [
    "The available models are:\n",
    "1. `t` -- Only a long term trend process.\n",
    "2. `ty` -- Long term trend with year seasonal effect.\n",
    "3. `tyw` -- Long term trend with year seasonal effect and a day-of-week effect that varies slowly over the years.\n",
    "4. `tywd` -- Long term trend with year seasonal effect, a day-of-week effect that varies slowly over the years, and a special days effect, including floating special days.\n",
    "\n",
    "The equivalent model in the original case study are:\n",
    "* `t`: Same as \"Model 1: Slow trend\"\n",
    "* `ty`: Same as \"Model 2: Slow trend + yearly seasonal trend\"\n",
    "* `tyw`: _Similar_ to \"Model 4: long term smooth + seasonal + weekday with increasing magnitude\". The difference is that I used a sum-to-zero constrain for the day-of-week effect rather than setting the effect of Mondays to zero.\n",
    "* `tywd`: _Similar_ to \"Model 8+RHS: day of year effect with RHS prior\". The difference is that I used `slab_scale=50` instead of `100`. I initially tried it with a value of 50 but found that my chains were getting stuck at the initialization point. Another difference is that there seems to be a mistake in the code of the original blogpost because the prior of β4 appears duplicated (it has a first a normal prior and then a horseshoe prior). I'm pretty confident this is a typo so I've not included the duplicated prior, I only use the horseshoe prior."
   ]
  },
  {
   "cell_type": "code",
   "execution_count": null,
   "id": "3e56354c-eb58-4e85-968f-e8eb935ea5cb",
   "metadata": {},
   "outputs": [],
   "source": [
    "args = Args(model=\"tywd\")"
   ]
  },
  {
   "cell_type": "code",
   "execution_count": null,
   "id": "348a8cd2-2dc7-4ea2-9c49-9fbf6284ed92",
   "metadata": {},
   "outputs": [],
   "source": [
    "model, data, mcmc, posterior_samples = main(args)"
   ]
  },
  {
   "cell_type": "code",
   "execution_count": null,
   "id": "96afe174-9fc4-4046-8087-d7b54b1aae7f",
   "metadata": {},
   "outputs": [],
   "source": [
    "model.make_figure(posterior_samples);"
   ]
  },
  {
   "cell_type": "code",
   "execution_count": null,
   "id": "73a97e90-c3bb-4e79-b44c-57aa104ddc43",
   "metadata": {},
   "outputs": [],
   "source": []
  }
 ],
 "metadata": {
  "kernelspec": {
   "display_name": "Python [conda env:Python3] *",
   "language": "python",
   "name": "conda-env-Python3-py"
  },
  "language_info": {
   "codemirror_mode": {
    "name": "ipython",
    "version": 3
   },
   "file_extension": ".py",
   "mimetype": "text/x-python",
   "name": "python",
   "nbconvert_exporter": "python",
   "pygments_lexer": "ipython3",
   "version": "3.8.2"
  }
 },
 "nbformat": 4,
 "nbformat_minor": 5
}
